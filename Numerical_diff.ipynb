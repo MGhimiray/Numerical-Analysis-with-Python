{
  "nbformat": 4,
  "nbformat_minor": 0,
  "metadata": {
    "colab": {
      "provenance": [],
      "authorship_tag": "ABX9TyPDQdCnOA1+bqJL7bzTxDcq",
      "include_colab_link": true
    },
    "kernelspec": {
      "name": "python3",
      "display_name": "Python 3"
    },
    "language_info": {
      "name": "python"
    }
  },
  "cells": [
    {
      "cell_type": "markdown",
      "metadata": {
        "id": "view-in-github",
        "colab_type": "text"
      },
      "source": [
        "<a href=\"https://colab.research.google.com/github/MGhimiray/Numerical-Analysis-with-Python/blob/main/Numerical_diff.ipynb\" target=\"_parent\"><img src=\"https://colab.research.google.com/assets/colab-badge.svg\" alt=\"Open In Colab\"/></a>"
      ]
    },
    {
      "cell_type": "code",
      "source": [
        "def f(x):\n",
        "    return x**2\n",
        "\n",
        "def derivative(x, h):\n",
        "    return (f(x + h) - f(x)) / h\n",
        "\n",
        "x0 = 2  # Point at which to calculate the derivative\n",
        "h = 0.001  # Step size\n",
        "\n",
        "result = derivative(x0, h)\n",
        "print(\"The derivative at x =\", x0, \"is\", result)\n"
      ],
      "metadata": {
        "colab": {
          "base_uri": "https://localhost:8080/"
        },
        "id": "4hetq0JKAbu8",
        "outputId": "1e18d705-34e5-487f-99c0-8bef9e5b8547"
      },
      "execution_count": 1,
      "outputs": [
        {
          "output_type": "stream",
          "name": "stdout",
          "text": [
            "The derivative at x = 2 is 4.000999999999699\n"
          ]
        }
      ]
    }
  ]
}
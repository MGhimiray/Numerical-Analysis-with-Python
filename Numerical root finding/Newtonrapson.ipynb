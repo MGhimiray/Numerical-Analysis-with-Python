{
  "nbformat": 4,
  "nbformat_minor": 0,
  "metadata": {
    "colab": {
      "provenance": [],
      "authorship_tag": "ABX9TyOMs6kuh1hnB3oGXKgU2nCw",
      "include_colab_link": true
    },
    "kernelspec": {
      "name": "python3",
      "display_name": "Python 3"
    },
    "language_info": {
      "name": "python"
    }
  },
  "cells": [
    {
      "cell_type": "markdown",
      "metadata": {
        "id": "view-in-github",
        "colab_type": "text"
      },
      "source": [
        "<a href=\"https://colab.research.google.com/github/MGhimiray/Numerical-Analysis-with-Python/blob/main/Newtonrapson.ipynb\" target=\"_parent\"><img src=\"https://colab.research.google.com/assets/colab-badge.svg\" alt=\"Open In Colab\"/></a>"
      ]
    },
    {
      "cell_type": "code",
      "execution_count": 7,
      "metadata": {
        "colab": {
          "base_uri": "https://localhost:8080/"
        },
        "id": "TRrnP1VxFPgP",
        "outputId": "c6d22b58-8789-45de-c9f8-b95697ca508c"
      },
      "outputs": [
        {
          "output_type": "stream",
          "name": "stdout",
          "text": [
            "Enter initial root value25\n",
            "2.009306192352032\n"
          ]
        }
      ],
      "source": [
        "def f(x):\n",
        "    return x**2+x-6\n",
        "\n",
        "def derivative(x, h):\n",
        "    return (f(x + h) - f(x)) / h\n",
        "\n",
        "x=float(input(\"Enter initial root value\"))\n",
        "\n",
        "h = 0.001  # Step size\n",
        "\n",
        "while True:\n",
        "  diff = derivative(x, h)\n",
        "  y=x-(f(x)/diff)\n",
        "  if abs(f(y)<=0.001):\n",
        "    break\n",
        "  else:\n",
        "    x=y\n",
        "print(x)\n",
        "\n",
        ""
      ]
    }
  ]
}
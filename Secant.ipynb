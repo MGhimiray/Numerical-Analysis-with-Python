{
  "nbformat": 4,
  "nbformat_minor": 0,
  "metadata": {
    "colab": {
      "provenance": [],
      "authorship_tag": "ABX9TyOyp4Rk2+VflTa+Pw50x46W",
      "include_colab_link": true
    },
    "kernelspec": {
      "name": "python3",
      "display_name": "Python 3"
    },
    "language_info": {
      "name": "python"
    }
  },
  "cells": [
    {
      "cell_type": "markdown",
      "metadata": {
        "id": "view-in-github",
        "colab_type": "text"
      },
      "source": [
        "<a href=\"https://colab.research.google.com/github/MGhimiray/Numerical-Analysis-with-Python/blob/main/Secant.ipynb\" target=\"_parent\"><img src=\"https://colab.research.google.com/assets/colab-badge.svg\" alt=\"Open In Colab\"/></a>"
      ]
    },
    {
      "cell_type": "code",
      "execution_count": 18,
      "metadata": {
        "colab": {
          "base_uri": "https://localhost:8080/"
        },
        "id": "IMS4U7l3WErK",
        "outputId": "e2a98fd6-67f1-4822-d24f-aed145d9c2cc"
      },
      "outputs": [
        {
          "output_type": "stream",
          "name": "stdout",
          "text": [
            "Enter the guess values a2\n",
            "Enter the guess values b6\n",
            "The root is 2.0\n"
          ]
        }
      ],
      "source": [
        "def f(x):\n",
        "  return x**2-4\n",
        "\n",
        "x = [0.0] * 10\n",
        "x[0]=float(input(\"Enter the guess values a\"))\n",
        "x[1]=float(input(\"Enter the guess values b\"))\n",
        "\n",
        "k=1\n",
        "while True:\n",
        "  x[k+1]=x[k]-f(x[k])*(x[k]-x[k-1])/(f(x[k])-f(x[k-1]))\n",
        "  if abs(x[k+1]-x[k])<0.0001:\n",
        "    break\n",
        "  else:\n",
        "    k=k+1\n",
        "\n",
        "print(\"The root is\",x[k+1])\n",
        "\n"
      ]
    },
    {
      "cell_type": "code",
      "source": [],
      "metadata": {
        "colab": {
          "base_uri": "https://localhost:8080/"
        },
        "id": "NmYd5cB3clOv",
        "outputId": "b1b2aab0-3f56-4a2f-d48a-054a177dd593"
      },
      "execution_count": 12,
      "outputs": [
        {
          "name": "stdout",
          "output_type": "stream",
          "text": [
            "Enter the guess values a and b:4\n"
          ]
        }
      ]
    }
  ]
}
{
  "nbformat": 4,
  "nbformat_minor": 0,
  "metadata": {
    "colab": {
      "provenance": [],
      "authorship_tag": "ABX9TyMBGE2EjgzBDVqqdxSSImvt",
      "include_colab_link": true
    },
    "kernelspec": {
      "name": "python3",
      "display_name": "Python 3"
    },
    "language_info": {
      "name": "python"
    }
  },
  "cells": [
    {
      "cell_type": "markdown",
      "metadata": {
        "id": "view-in-github",
        "colab_type": "text"
      },
      "source": [
        "<a href=\"https://colab.research.google.com/github/MGhimiray/Numerical-Analysis-with-Python/blob/main/random.ipynb\" target=\"_parent\"><img src=\"https://colab.research.google.com/assets/colab-badge.svg\" alt=\"Open In Colab\"/></a>"
      ]
    },
    {
      "cell_type": "code",
      "execution_count": 1,
      "metadata": {
        "id": "O2ZbIEf3Xzu6"
      },
      "outputs": [],
      "source": [
        "import random"
      ]
    },
    {
      "cell_type": "code",
      "source": [
        "from random import randint\n",
        "\n",
        "sample1 = randint(1, 50)\n",
        "print(sample1)\n",
        "\n",
        "sample2 = []\n",
        "for i in range(1, 10):\n",
        "    sample = randint(1, 50)\n",
        "    sample2.append(sample)\n",
        "\n",
        "print(sample2)"
      ],
      "metadata": {
        "id": "2PKMeP9-X10Y"
      },
      "execution_count": null,
      "outputs": []
    },
    {
      "cell_type": "code",
      "source": [
        "#random.choice module\n",
        "sample1=[]\n",
        "population = range(1, 15)\n",
        "for i in range (1,30):\n",
        "  sample = random.choice(population)\n",
        "  sample1.append(sample)\n",
        "print(sample1)\n",
        "\n",
        "#random.choices module\n",
        "sample_size = 50\n",
        "population = range(1, 15)  # Adjusted to include 50\n",
        "sample = random.choices(population, k=50)\n",
        "print(sample)"
      ],
      "metadata": {
        "id": "uNydXmCMX_rq"
      },
      "execution_count": null,
      "outputs": []
    },
    {
      "cell_type": "code",
      "source": [
        "# generating a random sample without repeating the elements\n",
        "# random.sample module\n",
        "size=10\n",
        "population = list(range(1,50))\n",
        "sample1=random.sample(population,size)\n",
        "print(sample1)"
      ],
      "metadata": {
        "id": "eAnJXjsxYD-F"
      },
      "execution_count": null,
      "outputs": []
    },
    {
      "cell_type": "code",
      "source": [
        "#generating random floats\n",
        "sample_size = 50\n",
        "lower_bound = 20.0\n",
        "upper_bound = 50.0\n",
        "\n",
        "sample = [random.uniform(lower_bound, upper_bound) for _ in range(sample_size)]\n",
        "print(sample)"
      ],
      "metadata": {
        "id": "ri4nLht3YNHm"
      },
      "execution_count": null,
      "outputs": []
    }
  ]
}